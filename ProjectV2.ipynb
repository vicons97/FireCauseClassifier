{
 "cells": [
  {
   "cell_type": "code",
   "execution_count": 3,
   "metadata": {},
   "outputs": [],
   "source": [
    "#Libraries to use\n",
    "import numpy as np # linear algebra\n",
    "import pandas as pd # data processing, CSV file I/O (e.g. pd.read_csv)\n",
    "#Machine Learning\n",
    "from sklearn.model_selection import train_test_split \n",
    "from sklearn.ensemble import RandomForestClassifier\n",
    "from sklearn.model_selection import cross_val_predict\n",
    "from sklearn.metrics import accuracy_score, precision_score, recall_score, f1_score, confusion_matrix\n",
    "from sklearn.feature_selection import chi2, mutual_info_classif\n",
    "#label encoding\n",
    "from sklearn.preprocessing import LabelEncoder\n",
    "#logistic regresion\n",
    "from sklearn.linear_model import LogisticRegression\n"
   ]
  },
  {
   "cell_type": "code",
   "execution_count": 4,
   "metadata": {},
   "outputs": [
    {
     "data": {
      "text/html": [
       "<div>\n",
       "<style scoped>\n",
       "    .dataframe tbody tr th:only-of-type {\n",
       "        vertical-align: middle;\n",
       "    }\n",
       "\n",
       "    .dataframe tbody tr th {\n",
       "        vertical-align: top;\n",
       "    }\n",
       "\n",
       "    .dataframe thead th {\n",
       "        text-align: right;\n",
       "    }\n",
       "</style>\n",
       "<table border=\"1\" class=\"dataframe\">\n",
       "  <thead>\n",
       "    <tr style=\"text-align: right;\">\n",
       "      <th></th>\n",
       "      <th>Area</th>\n",
       "      <th>Size_class</th>\n",
       "      <th>EstTotalAcres</th>\n",
       "      <th>Protected_Acres</th>\n",
       "      <th>HumanOrLightning</th>\n",
       "      <th>FO_LandOwnType</th>\n",
       "      <th>County</th>\n",
       "      <th>RegUseRestriction</th>\n",
       "      <th>Industrial_Restriction</th>\n",
       "      <th>DistrictCode</th>\n",
       "      <th>Month_ReportDate</th>\n",
       "    </tr>\n",
       "  </thead>\n",
       "  <tbody>\n",
       "    <tr>\n",
       "      <th>0</th>\n",
       "      <td>EOA</td>\n",
       "      <td>B</td>\n",
       "      <td>0.75</td>\n",
       "      <td>0.75</td>\n",
       "      <td>Lightning</td>\n",
       "      <td>BLM</td>\n",
       "      <td>Grant</td>\n",
       "      <td>Reg Use Closure</td>\n",
       "      <td>Does Not Apply - Eastern OR</td>\n",
       "      <td>95</td>\n",
       "      <td>7</td>\n",
       "    </tr>\n",
       "    <tr>\n",
       "      <th>1</th>\n",
       "      <td>EOA</td>\n",
       "      <td>C</td>\n",
       "      <td>80.00</td>\n",
       "      <td>80.00</td>\n",
       "      <td>Lightning</td>\n",
       "      <td>Other Private</td>\n",
       "      <td>Union</td>\n",
       "      <td>Reg Use Closure</td>\n",
       "      <td>Does Not Apply - Eastern OR</td>\n",
       "      <td>97</td>\n",
       "      <td>8</td>\n",
       "    </tr>\n",
       "    <tr>\n",
       "      <th>2</th>\n",
       "      <td>SOA</td>\n",
       "      <td>A</td>\n",
       "      <td>0.10</td>\n",
       "      <td>0.10</td>\n",
       "      <td>Human</td>\n",
       "      <td>BLM</td>\n",
       "      <td>Jackson</td>\n",
       "      <td>Reg Use Closure</td>\n",
       "      <td>Lvl 3 Restricted Shutdown</td>\n",
       "      <td>71</td>\n",
       "      <td>8</td>\n",
       "    </tr>\n",
       "    <tr>\n",
       "      <th>3</th>\n",
       "      <td>NOA</td>\n",
       "      <td>A</td>\n",
       "      <td>0.01</td>\n",
       "      <td>0.01</td>\n",
       "      <td>Human</td>\n",
       "      <td>State</td>\n",
       "      <td>Benton</td>\n",
       "      <td>Closed Fire Season Lvl 1</td>\n",
       "      <td>Lvl 1 Fire Season Only</td>\n",
       "      <td>55</td>\n",
       "      <td>7</td>\n",
       "    </tr>\n",
       "    <tr>\n",
       "      <th>4</th>\n",
       "      <td>NOA</td>\n",
       "      <td>A</td>\n",
       "      <td>0.01</td>\n",
       "      <td>0.01</td>\n",
       "      <td>Lightning</td>\n",
       "      <td>Industrial</td>\n",
       "      <td>Polk</td>\n",
       "      <td>Reg Use Closure</td>\n",
       "      <td>Lvl 3 Restricted Shutdown</td>\n",
       "      <td>55</td>\n",
       "      <td>8</td>\n",
       "    </tr>\n",
       "  </tbody>\n",
       "</table>\n",
       "</div>"
      ],
      "text/plain": [
       "  Area Size_class  EstTotalAcres  Protected_Acres HumanOrLightning  \\\n",
       "0  EOA          B           0.75             0.75        Lightning   \n",
       "1  EOA          C          80.00            80.00        Lightning   \n",
       "2  SOA          A           0.10             0.10            Human   \n",
       "3  NOA          A           0.01             0.01            Human   \n",
       "4  NOA          A           0.01             0.01        Lightning   \n",
       "\n",
       "  FO_LandOwnType   County         RegUseRestriction  \\\n",
       "0            BLM    Grant           Reg Use Closure   \n",
       "1  Other Private    Union           Reg Use Closure   \n",
       "2            BLM  Jackson           Reg Use Closure   \n",
       "3          State   Benton  Closed Fire Season Lvl 1   \n",
       "4     Industrial     Polk           Reg Use Closure   \n",
       "\n",
       "        Industrial_Restriction  DistrictCode  Month_ReportDate  \n",
       "0  Does Not Apply - Eastern OR            95                 7  \n",
       "1  Does Not Apply - Eastern OR            97                 8  \n",
       "2    Lvl 3 Restricted Shutdown            71                 8  \n",
       "3       Lvl 1 Fire Season Only            55                 7  \n",
       "4    Lvl 3 Restricted Shutdown            55                 8  "
      ]
     },
     "execution_count": 4,
     "metadata": {},
     "output_type": "execute_result"
    }
   ],
   "source": [
    "Firedf = pd.read_csv(\"./FIREANAL_V2.csv\")\n",
    "Firedf.head()"
   ]
  },
  {
   "cell_type": "code",
   "execution_count": 98,
   "metadata": {},
   "outputs": [
    {
     "data": {
      "text/html": [
       "<div>\n",
       "<style scoped>\n",
       "    .dataframe tbody tr th:only-of-type {\n",
       "        vertical-align: middle;\n",
       "    }\n",
       "\n",
       "    .dataframe tbody tr th {\n",
       "        vertical-align: top;\n",
       "    }\n",
       "\n",
       "    .dataframe thead th {\n",
       "        text-align: right;\n",
       "    }\n",
       "</style>\n",
       "<table border=\"1\" class=\"dataframe\">\n",
       "  <thead>\n",
       "    <tr style=\"text-align: right;\">\n",
       "      <th></th>\n",
       "      <th>Area</th>\n",
       "      <th>Size_class</th>\n",
       "      <th>EstTotalAcres</th>\n",
       "      <th>Protected_Acres</th>\n",
       "      <th>HumanOrLightning</th>\n",
       "      <th>FO_LandOwnType</th>\n",
       "      <th>County</th>\n",
       "      <th>RegUseRestriction</th>\n",
       "      <th>Industrial_Restriction</th>\n",
       "      <th>DistrictCode</th>\n",
       "      <th>Month_ReportDate</th>\n",
       "    </tr>\n",
       "  </thead>\n",
       "  <tbody>\n",
       "    <tr>\n",
       "      <th>0</th>\n",
       "      <td>EOA</td>\n",
       "      <td>B</td>\n",
       "      <td>0.75</td>\n",
       "      <td>0.75</td>\n",
       "      <td>Lightning</td>\n",
       "      <td>BLM</td>\n",
       "      <td>Grant</td>\n",
       "      <td>Reg Use Closure</td>\n",
       "      <td>Does Not Apply - Eastern OR</td>\n",
       "      <td>95</td>\n",
       "      <td>7</td>\n",
       "    </tr>\n",
       "    <tr>\n",
       "      <th>1</th>\n",
       "      <td>EOA</td>\n",
       "      <td>C</td>\n",
       "      <td>80.00</td>\n",
       "      <td>80.00</td>\n",
       "      <td>Lightning</td>\n",
       "      <td>Other Private</td>\n",
       "      <td>Union</td>\n",
       "      <td>Reg Use Closure</td>\n",
       "      <td>Does Not Apply - Eastern OR</td>\n",
       "      <td>97</td>\n",
       "      <td>8</td>\n",
       "    </tr>\n",
       "    <tr>\n",
       "      <th>2</th>\n",
       "      <td>SOA</td>\n",
       "      <td>A</td>\n",
       "      <td>0.10</td>\n",
       "      <td>0.10</td>\n",
       "      <td>Human</td>\n",
       "      <td>BLM</td>\n",
       "      <td>Jackson</td>\n",
       "      <td>Reg Use Closure</td>\n",
       "      <td>Lvl 3 Restricted Shutdown</td>\n",
       "      <td>71</td>\n",
       "      <td>8</td>\n",
       "    </tr>\n",
       "    <tr>\n",
       "      <th>3</th>\n",
       "      <td>NOA</td>\n",
       "      <td>A</td>\n",
       "      <td>0.01</td>\n",
       "      <td>0.01</td>\n",
       "      <td>Human</td>\n",
       "      <td>State</td>\n",
       "      <td>Benton</td>\n",
       "      <td>Closed Fire Season Lvl 1</td>\n",
       "      <td>Lvl 1 Fire Season Only</td>\n",
       "      <td>55</td>\n",
       "      <td>7</td>\n",
       "    </tr>\n",
       "    <tr>\n",
       "      <th>4</th>\n",
       "      <td>NOA</td>\n",
       "      <td>A</td>\n",
       "      <td>0.01</td>\n",
       "      <td>0.01</td>\n",
       "      <td>Lightning</td>\n",
       "      <td>Industrial</td>\n",
       "      <td>Polk</td>\n",
       "      <td>Reg Use Closure</td>\n",
       "      <td>Lvl 3 Restricted Shutdown</td>\n",
       "      <td>55</td>\n",
       "      <td>8</td>\n",
       "    </tr>\n",
       "  </tbody>\n",
       "</table>\n",
       "</div>"
      ],
      "text/plain": [
       "  Area Size_class  EstTotalAcres  Protected_Acres HumanOrLightning  \\\n",
       "0  EOA          B           0.75             0.75        Lightning   \n",
       "1  EOA          C          80.00            80.00        Lightning   \n",
       "2  SOA          A           0.10             0.10            Human   \n",
       "3  NOA          A           0.01             0.01            Human   \n",
       "4  NOA          A           0.01             0.01        Lightning   \n",
       "\n",
       "  FO_LandOwnType   County         RegUseRestriction  \\\n",
       "0            BLM    Grant           Reg Use Closure   \n",
       "1  Other Private    Union           Reg Use Closure   \n",
       "2            BLM  Jackson           Reg Use Closure   \n",
       "3          State   Benton  Closed Fire Season Lvl 1   \n",
       "4     Industrial     Polk           Reg Use Closure   \n",
       "\n",
       "        Industrial_Restriction  DistrictCode  Month_ReportDate  \n",
       "0  Does Not Apply - Eastern OR            95                 7  \n",
       "1  Does Not Apply - Eastern OR            97                 8  \n",
       "2    Lvl 3 Restricted Shutdown            71                 8  \n",
       "3       Lvl 1 Fire Season Only            55                 7  \n",
       "4    Lvl 3 Restricted Shutdown            55                 8  "
      ]
     },
     "execution_count": 98,
     "metadata": {},
     "output_type": "execute_result"
    }
   ],
   "source": [
    "O_Firedf = pd.read_csv(\"D:/1. Docs/11. Big Data, analysis & BI/10. Predictive Modeling of Megadata/FIREANAL_V2.csv\")\n",
    "O_Firedf.head()"
   ]
  },
  {
   "cell_type": "code",
   "execution_count": 29,
   "metadata": {},
   "outputs": [
    {
     "data": {
      "text/plain": [
       "Human           0.732099\n",
       "Lightning       0.266752\n",
       "Under Invest    0.001149\n",
       "Name: HumanOrLightning, dtype: float64"
      ]
     },
     "execution_count": 29,
     "metadata": {},
     "output_type": "execute_result"
    }
   ],
   "source": [
    "Firedf['HumanOrLightning'].value_counts(True)"
   ]
  },
  {
   "cell_type": "code",
   "execution_count": 30,
   "metadata": {},
   "outputs": [
    {
     "data": {
      "text/html": [
       "<div>\n",
       "<style scoped>\n",
       "    .dataframe tbody tr th:only-of-type {\n",
       "        vertical-align: middle;\n",
       "    }\n",
       "\n",
       "    .dataframe tbody tr th {\n",
       "        vertical-align: top;\n",
       "    }\n",
       "\n",
       "    .dataframe thead th {\n",
       "        text-align: right;\n",
       "    }\n",
       "</style>\n",
       "<table border=\"1\" class=\"dataframe\">\n",
       "  <thead>\n",
       "    <tr style=\"text-align: right;\">\n",
       "      <th></th>\n",
       "      <th>Area</th>\n",
       "      <th>Size_class</th>\n",
       "      <th>EstTotalAcres</th>\n",
       "      <th>Protected_Acres</th>\n",
       "      <th>HumanOrLightning</th>\n",
       "      <th>FO_LandOwnType</th>\n",
       "      <th>County</th>\n",
       "      <th>RegUseRestriction</th>\n",
       "      <th>Industrial_Restriction</th>\n",
       "      <th>DistrictCode</th>\n",
       "      <th>Month_ReportDate</th>\n",
       "    </tr>\n",
       "  </thead>\n",
       "  <tbody>\n",
       "    <tr>\n",
       "      <th>0</th>\n",
       "      <td>EOA</td>\n",
       "      <td>B</td>\n",
       "      <td>0.75</td>\n",
       "      <td>0.75</td>\n",
       "      <td>Lightning</td>\n",
       "      <td>BLM</td>\n",
       "      <td>Grant</td>\n",
       "      <td>Reg Use Closure</td>\n",
       "      <td>Does Not Apply - Eastern OR</td>\n",
       "      <td>95</td>\n",
       "      <td>7</td>\n",
       "    </tr>\n",
       "    <tr>\n",
       "      <th>1</th>\n",
       "      <td>EOA</td>\n",
       "      <td>C</td>\n",
       "      <td>80.00</td>\n",
       "      <td>80.00</td>\n",
       "      <td>Lightning</td>\n",
       "      <td>Other Private</td>\n",
       "      <td>Union</td>\n",
       "      <td>Reg Use Closure</td>\n",
       "      <td>Does Not Apply - Eastern OR</td>\n",
       "      <td>97</td>\n",
       "      <td>8</td>\n",
       "    </tr>\n",
       "    <tr>\n",
       "      <th>2</th>\n",
       "      <td>SOA</td>\n",
       "      <td>A</td>\n",
       "      <td>0.10</td>\n",
       "      <td>0.10</td>\n",
       "      <td>Human</td>\n",
       "      <td>BLM</td>\n",
       "      <td>Jackson</td>\n",
       "      <td>Reg Use Closure</td>\n",
       "      <td>Lvl 3 Restricted Shutdown</td>\n",
       "      <td>71</td>\n",
       "      <td>8</td>\n",
       "    </tr>\n",
       "    <tr>\n",
       "      <th>3</th>\n",
       "      <td>NOA</td>\n",
       "      <td>A</td>\n",
       "      <td>0.01</td>\n",
       "      <td>0.01</td>\n",
       "      <td>Human</td>\n",
       "      <td>State</td>\n",
       "      <td>Benton</td>\n",
       "      <td>Closed Fire Season Lvl 1</td>\n",
       "      <td>Lvl 1 Fire Season Only</td>\n",
       "      <td>55</td>\n",
       "      <td>7</td>\n",
       "    </tr>\n",
       "    <tr>\n",
       "      <th>4</th>\n",
       "      <td>NOA</td>\n",
       "      <td>A</td>\n",
       "      <td>0.01</td>\n",
       "      <td>0.01</td>\n",
       "      <td>Lightning</td>\n",
       "      <td>Industrial</td>\n",
       "      <td>Polk</td>\n",
       "      <td>Reg Use Closure</td>\n",
       "      <td>Lvl 3 Restricted Shutdown</td>\n",
       "      <td>55</td>\n",
       "      <td>8</td>\n",
       "    </tr>\n",
       "  </tbody>\n",
       "</table>\n",
       "</div>"
      ],
      "text/plain": [
       "  Area Size_class  EstTotalAcres  Protected_Acres HumanOrLightning  \\\n",
       "0  EOA          B           0.75             0.75        Lightning   \n",
       "1  EOA          C          80.00            80.00        Lightning   \n",
       "2  SOA          A           0.10             0.10            Human   \n",
       "3  NOA          A           0.01             0.01            Human   \n",
       "4  NOA          A           0.01             0.01        Lightning   \n",
       "\n",
       "  FO_LandOwnType   County         RegUseRestriction  \\\n",
       "0            BLM    Grant           Reg Use Closure   \n",
       "1  Other Private    Union           Reg Use Closure   \n",
       "2            BLM  Jackson           Reg Use Closure   \n",
       "3          State   Benton  Closed Fire Season Lvl 1   \n",
       "4     Industrial     Polk           Reg Use Closure   \n",
       "\n",
       "        Industrial_Restriction  DistrictCode  Month_ReportDate  \n",
       "0  Does Not Apply - Eastern OR            95                 7  \n",
       "1  Does Not Apply - Eastern OR            97                 8  \n",
       "2    Lvl 3 Restricted Shutdown            71                 8  \n",
       "3       Lvl 1 Fire Season Only            55                 7  \n",
       "4    Lvl 3 Restricted Shutdown            55                 8  "
      ]
     },
     "execution_count": 30,
     "metadata": {},
     "output_type": "execute_result"
    }
   ],
   "source": [
    "#We have check that ther are 7 rows how have \"under investment\" as HumanOrLightning, so we are deleting this for better calculations\n",
    "# Define which string we want to delete\n",
    "string_to_del = 'Under Invest'\n",
    "\n",
    "# Here we delete that string from all the rows\n",
    "Firedf = Firedf[Firedf['HumanOrLightning'] != string_to_del]\n",
    "\n",
    "# we check\n",
    "Firedf.head()"
   ]
  },
  {
   "cell_type": "code",
   "execution_count": 31,
   "metadata": {},
   "outputs": [
    {
     "data": {
      "text/plain": [
       "Human        0.732941\n",
       "Lightning    0.267059\n",
       "Name: HumanOrLightning, dtype: float64"
      ]
     },
     "execution_count": 31,
     "metadata": {},
     "output_type": "execute_result"
    }
   ],
   "source": [
    "Firedf['HumanOrLightning'].value_counts(True)"
   ]
  },
  {
   "cell_type": "code",
   "execution_count": 32,
   "metadata": {},
   "outputs": [
    {
     "name": "stdout",
     "output_type": "stream",
     "text": [
      "Area                      23463\n",
      "Size_class                23463\n",
      "EstTotalAcres             23394\n",
      "Protected_Acres           23463\n",
      "HumanOrLightning          23463\n",
      "FO_LandOwnType            23463\n",
      "County                    23463\n",
      "RegUseRestriction         23388\n",
      "Industrial_Restriction    23388\n",
      "DistrictCode              23463\n",
      "Month_ReportDate          23463\n",
      "dtype: int64\n",
      "(23463, 11)\n"
     ]
    }
   ],
   "source": [
    "print(Firedf.count())\n",
    "print(Firedf.shape)"
   ]
  },
  {
   "cell_type": "code",
   "execution_count": 33,
   "metadata": {},
   "outputs": [
    {
     "name": "stdout",
     "output_type": "stream",
     "text": [
      "Area                       0\n",
      "Size_class                 0\n",
      "EstTotalAcres             69\n",
      "Protected_Acres            0\n",
      "HumanOrLightning           0\n",
      "FO_LandOwnType             0\n",
      "County                     0\n",
      "RegUseRestriction         75\n",
      "Industrial_Restriction    75\n",
      "DistrictCode               0\n",
      "Month_ReportDate           0\n",
      "dtype: int64\n"
     ]
    }
   ],
   "source": [
    "#Check for Null Values, we have 8\n",
    "null_counts = Firedf.isnull().sum()\n",
    "print(null_counts)"
   ]
  },
  {
   "cell_type": "code",
   "execution_count": 34,
   "metadata": {},
   "outputs": [],
   "source": [
    "#Deleating of Nulls\n",
    "Firedf.replace('', np.nan, inplace=True)\n",
    "#Here we delete the null values (rows)\n",
    "Firedf = Firedf.dropna(how='any')\n"
   ]
  },
  {
   "cell_type": "code",
   "execution_count": 35,
   "metadata": {},
   "outputs": [
    {
     "name": "stdout",
     "output_type": "stream",
     "text": [
      "Area                      0\n",
      "Size_class                0\n",
      "EstTotalAcres             0\n",
      "Protected_Acres           0\n",
      "HumanOrLightning          0\n",
      "FO_LandOwnType            0\n",
      "County                    0\n",
      "RegUseRestriction         0\n",
      "Industrial_Restriction    0\n",
      "DistrictCode              0\n",
      "Month_ReportDate          0\n",
      "dtype: int64\n"
     ]
    }
   ],
   "source": [
    "#Validation that the null values are deleted\n",
    "null_counts = Firedf.isnull().sum()\n",
    "print(null_counts)"
   ]
  },
  {
   "cell_type": "code",
   "execution_count": 113,
   "metadata": {},
   "outputs": [
    {
     "name": "stdout",
     "output_type": "stream",
     "text": [
      "Area                      23387\n",
      "Size_class                23387\n",
      "EstTotalAcres             23387\n",
      "Protected_Acres           23387\n",
      "HumanOrLightning          23387\n",
      "FO_LandOwnType            23387\n",
      "County                    23387\n",
      "RegUseRestriction         23387\n",
      "Industrial_Restriction    23387\n",
      "DistrictCode              23387\n",
      "Month_ReportDate          23387\n",
      "dtype: int64\n",
      "(23387, 11)\n"
     ]
    }
   ],
   "source": [
    "print(Firedf.count())\n",
    "print(Firedf.shape)"
   ]
  },
  {
   "cell_type": "code",
   "execution_count": 114,
   "metadata": {},
   "outputs": [
    {
     "data": {
      "text/html": [
       "<div>\n",
       "<style scoped>\n",
       "    .dataframe tbody tr th:only-of-type {\n",
       "        vertical-align: middle;\n",
       "    }\n",
       "\n",
       "    .dataframe tbody tr th {\n",
       "        vertical-align: top;\n",
       "    }\n",
       "\n",
       "    .dataframe thead th {\n",
       "        text-align: right;\n",
       "    }\n",
       "</style>\n",
       "<table border=\"1\" class=\"dataframe\">\n",
       "  <thead>\n",
       "    <tr style=\"text-align: right;\">\n",
       "      <th></th>\n",
       "      <th>Area</th>\n",
       "      <th>Size_class</th>\n",
       "      <th>EstTotalAcres</th>\n",
       "      <th>Protected_Acres</th>\n",
       "      <th>HumanOrLightning</th>\n",
       "      <th>FO_LandOwnType</th>\n",
       "      <th>County</th>\n",
       "      <th>RegUseRestriction</th>\n",
       "      <th>Industrial_Restriction</th>\n",
       "      <th>DistrictCode</th>\n",
       "      <th>Month_ReportDate</th>\n",
       "    </tr>\n",
       "  </thead>\n",
       "  <tbody>\n",
       "    <tr>\n",
       "      <th>0</th>\n",
       "      <td>0</td>\n",
       "      <td>1</td>\n",
       "      <td>75</td>\n",
       "      <td>75</td>\n",
       "      <td>1</td>\n",
       "      <td>2</td>\n",
       "      <td>11</td>\n",
       "      <td>4</td>\n",
       "      <td>0</td>\n",
       "      <td>10</td>\n",
       "      <td>6</td>\n",
       "    </tr>\n",
       "    <tr>\n",
       "      <th>1</th>\n",
       "      <td>0</td>\n",
       "      <td>2</td>\n",
       "      <td>762</td>\n",
       "      <td>746</td>\n",
       "      <td>1</td>\n",
       "      <td>8</td>\n",
       "      <td>30</td>\n",
       "      <td>4</td>\n",
       "      <td>0</td>\n",
       "      <td>11</td>\n",
       "      <td>7</td>\n",
       "    </tr>\n",
       "    <tr>\n",
       "      <th>2</th>\n",
       "      <td>2</td>\n",
       "      <td>0</td>\n",
       "      <td>10</td>\n",
       "      <td>10</td>\n",
       "      <td>0</td>\n",
       "      <td>2</td>\n",
       "      <td>14</td>\n",
       "      <td>4</td>\n",
       "      <td>3</td>\n",
       "      <td>5</td>\n",
       "      <td>7</td>\n",
       "    </tr>\n",
       "    <tr>\n",
       "      <th>3</th>\n",
       "      <td>1</td>\n",
       "      <td>0</td>\n",
       "      <td>1</td>\n",
       "      <td>1</td>\n",
       "      <td>0</td>\n",
       "      <td>12</td>\n",
       "      <td>1</td>\n",
       "      <td>1</td>\n",
       "      <td>1</td>\n",
       "      <td>3</td>\n",
       "      <td>6</td>\n",
       "    </tr>\n",
       "    <tr>\n",
       "      <th>4</th>\n",
       "      <td>1</td>\n",
       "      <td>0</td>\n",
       "      <td>1</td>\n",
       "      <td>1</td>\n",
       "      <td>1</td>\n",
       "      <td>4</td>\n",
       "      <td>27</td>\n",
       "      <td>4</td>\n",
       "      <td>3</td>\n",
       "      <td>3</td>\n",
       "      <td>7</td>\n",
       "    </tr>\n",
       "  </tbody>\n",
       "</table>\n",
       "</div>"
      ],
      "text/plain": [
       "   Area  Size_class  EstTotalAcres  Protected_Acres  HumanOrLightning  \\\n",
       "0     0           1             75               75                 1   \n",
       "1     0           2            762              746                 1   \n",
       "2     2           0             10               10                 0   \n",
       "3     1           0              1                1                 0   \n",
       "4     1           0              1                1                 1   \n",
       "\n",
       "   FO_LandOwnType  County  RegUseRestriction  Industrial_Restriction  \\\n",
       "0               2      11                  4                       0   \n",
       "1               8      30                  4                       0   \n",
       "2               2      14                  4                       3   \n",
       "3              12       1                  1                       1   \n",
       "4               4      27                  4                       3   \n",
       "\n",
       "   DistrictCode  Month_ReportDate  \n",
       "0            10                 6  \n",
       "1            11                 7  \n",
       "2             5                 7  \n",
       "3             3                 6  \n",
       "4             3                 7  "
      ]
     },
     "execution_count": 114,
     "metadata": {},
     "output_type": "execute_result"
    }
   ],
   "source": [
    "for col in Firedf.columns:\n",
    "    le = LabelEncoder()\n",
    "    Firedf[col] = le.fit_transform(Firedf[col])\n",
    "Firedf.head()\n"
   ]
  },
  {
   "cell_type": "code",
   "execution_count": 115,
   "metadata": {},
   "outputs": [],
   "source": [
    "# Assuming 'HumanOrLightning' is the target variable\n",
    "labe = ['HumanOrLightning','EstTotalAcres','Protected_Acres']\n",
    "X = Firedf.drop(labe, axis=1)  # Features\n",
    "y = Firedf['HumanOrLightning']  # Target variable"
   ]
  },
  {
   "cell_type": "code",
   "execution_count": 116,
   "metadata": {},
   "outputs": [],
   "source": [
    "chi2_scores, chi2_pvalues = chi2(X, y)"
   ]
  },
  {
   "cell_type": "code",
   "execution_count": 117,
   "metadata": {},
   "outputs": [],
   "source": [
    "mutual_info_scores = mutual_info_classif(X, y)"
   ]
  },
  {
   "cell_type": "code",
   "execution_count": 118,
   "metadata": {},
   "outputs": [
    {
     "name": "stdout",
     "output_type": "stream",
     "text": [
      "Your submission was successfully saved!\n"
     ]
    }
   ],
   "source": [
    "# Creating a DataFrame to display the results\n",
    "feature_scores = pd.DataFrame({'Feature': X.columns, 'Chi2 Score': chi2_scores, 'Chi2 p-value': chi2_pvalues, 'Mutual Info Score': mutual_info_scores})\n",
    "\n",
    "# Sort the features by score (you can choose either Chi2 Score or Mutual Info Score)\n",
    "sorted_features = feature_scores.sort_values(by='Chi2 Score', ascending=False)\n",
    "\n",
    "# Print the sorted features\n",
    "sorted_features.to_csv('Predicciones_dos_modelosV3.csv', index=False)\n",
    "print(\"Your submission was successfully saved!\")\n"
   ]
  },
  {
   "cell_type": "code",
   "execution_count": 119,
   "metadata": {},
   "outputs": [
    {
     "data": {
      "text/plain": [
       "<Axes: >"
      ]
     },
     "execution_count": 119,
     "metadata": {},
     "output_type": "execute_result"
    },
    {
     "data": {
      "image/png": "[encoded data removed]",
      "text/plain": [
       "<Figure size 640x480 with 1 Axes>"
      ]
     },
     "metadata": {},
     "output_type": "display_data"
    }
   ],
   "source": [
    "chi_values = pd.Series(chi2_scores, index=X.columns)\n",
    "chi_values.sort_values(ascending=False, inplace=True)\n",
    "chi_values.plot.bar()"
   ]
  },
  {
   "cell_type": "code",
   "execution_count": 120,
   "metadata": {},
   "outputs": [
    {
     "data": {
      "text/plain": [
       "<Axes: >"
      ]
     },
     "execution_count": 120,
     "metadata": {},
     "output_type": "execute_result"
    },
    {
     "data": {
      "image/png": "[encoded data removed]",
      "text/plain": [
       "<Figure size 640x480 with 1 Axes>"
      ]
     },
     "metadata": {},
     "output_type": "display_data"
    }
   ],
   "source": [
    "chi_values2 = pd.Series(chi2_pvalues, index=X.columns)\n",
    "chi_values2.sort_values(ascending=False, inplace=True)\n",
    "chi_values2.plot.bar()"
   ]
  },
  {
   "cell_type": "code",
   "execution_count": 69,
   "metadata": {},
   "outputs": [
    {
     "data": {
      "text/plain": [
       "<Axes: >"
      ]
     },
     "execution_count": 69,
     "metadata": {},
     "output_type": "execute_result"
    },
    {
     "data": {
      "image/png": "[encoded data removed]",
      "text/plain": [
       "<Figure size 640x480 with 1 Axes>"
      ]
     },
     "metadata": {},
     "output_type": "display_data"
    }
   ],
   "source": [
    "mutual_info_values = pd.Series(mutual_info_scores, index=X.columns)\n",
    "mutual_info_values.sort_values(ascending=False, inplace=True)\n",
    "mutual_info_values.plot.bar()"
   ]
  },
  {
   "cell_type": "code",
   "execution_count": 90,
   "metadata": {},
   "outputs": [],
   "source": [
    "labe2 = ['HumanOrLightning','Area', 'Size_class', 'FO_LandOwnType', 'County', 'RegUseRestriction', 'Industrial_Restriction', 'DistrictCode', 'Month_ReportDate']"
   ]
  },
  {
   "cell_type": "code",
   "execution_count": null,
   "metadata": {},
   "outputs": [],
   "source": [
    "for fire in labe2:\n",
    "    print(Firedf[fire].value_counts(True))"
   ]
  },
  {
   "cell_type": "code",
   "execution_count": 94,
   "metadata": {},
   "outputs": [],
   "source": [
    "#Spliting of data\n",
    "train, test = train_test_split(Firedf, test_size=0.3, random_state=42)"
   ]
  },
  {
   "cell_type": "code",
   "execution_count": null,
   "metadata": {},
   "outputs": [],
   "source": [
    "for fire in labe2:\n",
    "    print(train[fire].value_counts(True))"
   ]
  },
  {
   "cell_type": "code",
   "execution_count": null,
   "metadata": {},
   "outputs": [],
   "source": [
    "for fire in labe2:\n",
    "    print(test[fire].value_counts(True))"
   ]
  },
  {
   "cell_type": "code",
   "execution_count": 95,
   "metadata": {},
   "outputs": [
    {
     "data": {
      "text/plain": [
       "0.6999615170821396"
      ]
     },
     "execution_count": 95,
     "metadata": {},
     "output_type": "execute_result"
    }
   ],
   "source": [
    "train.shape[0] / Firedf.shape[0]"
   ]
  },
  {
   "cell_type": "code",
   "execution_count": 96,
   "metadata": {},
   "outputs": [
    {
     "data": {
      "text/html": [
       "<div>\n",
       "<style scoped>\n",
       "    .dataframe tbody tr th:only-of-type {\n",
       "        vertical-align: middle;\n",
       "    }\n",
       "\n",
       "    .dataframe tbody tr th {\n",
       "        vertical-align: top;\n",
       "    }\n",
       "\n",
       "    .dataframe thead th {\n",
       "        text-align: right;\n",
       "    }\n",
       "</style>\n",
       "<table border=\"1\" class=\"dataframe\">\n",
       "  <thead>\n",
       "    <tr style=\"text-align: right;\">\n",
       "      <th></th>\n",
       "      <th>Area</th>\n",
       "      <th>Size_class</th>\n",
       "      <th>EstTotalAcres</th>\n",
       "      <th>Protected_Acres</th>\n",
       "      <th>HumanOrLightning</th>\n",
       "      <th>FO_LandOwnType</th>\n",
       "      <th>County</th>\n",
       "      <th>RegUseRestriction</th>\n",
       "      <th>Industrial_Restriction</th>\n",
       "      <th>DistrictCode</th>\n",
       "      <th>Month_ReportDate</th>\n",
       "    </tr>\n",
       "  </thead>\n",
       "  <tbody>\n",
       "    <tr>\n",
       "      <th>14206</th>\n",
       "      <td>2</td>\n",
       "      <td>5</td>\n",
       "      <td>1066</td>\n",
       "      <td>550</td>\n",
       "      <td>0</td>\n",
       "      <td>5</td>\n",
       "      <td>14</td>\n",
       "      <td>4</td>\n",
       "      <td>4</td>\n",
       "      <td>5</td>\n",
       "      <td>8</td>\n",
       "    </tr>\n",
       "    <tr>\n",
       "      <th>632</th>\n",
       "      <td>0</td>\n",
       "      <td>3</td>\n",
       "      <td>801</td>\n",
       "      <td>789</td>\n",
       "      <td>1</td>\n",
       "      <td>8</td>\n",
       "      <td>34</td>\n",
       "      <td>4</td>\n",
       "      <td>0</td>\n",
       "      <td>10</td>\n",
       "      <td>7</td>\n",
       "    </tr>\n",
       "    <tr>\n",
       "      <th>9092</th>\n",
       "      <td>2</td>\n",
       "      <td>1</td>\n",
       "      <td>50</td>\n",
       "      <td>50</td>\n",
       "      <td>0</td>\n",
       "      <td>10</td>\n",
       "      <td>9</td>\n",
       "      <td>1</td>\n",
       "      <td>1</td>\n",
       "      <td>7</td>\n",
       "      <td>5</td>\n",
       "    </tr>\n",
       "    <tr>\n",
       "      <th>3973</th>\n",
       "      <td>2</td>\n",
       "      <td>0</td>\n",
       "      <td>25</td>\n",
       "      <td>25</td>\n",
       "      <td>0</td>\n",
       "      <td>4</td>\n",
       "      <td>14</td>\n",
       "      <td>2</td>\n",
       "      <td>5</td>\n",
       "      <td>5</td>\n",
       "      <td>10</td>\n",
       "    </tr>\n",
       "    <tr>\n",
       "      <th>14283</th>\n",
       "      <td>1</td>\n",
       "      <td>4</td>\n",
       "      <td>925</td>\n",
       "      <td>896</td>\n",
       "      <td>0</td>\n",
       "      <td>4</td>\n",
       "      <td>2</td>\n",
       "      <td>2</td>\n",
       "      <td>5</td>\n",
       "      <td>4</td>\n",
       "      <td>9</td>\n",
       "    </tr>\n",
       "  </tbody>\n",
       "</table>\n",
       "</div>"
      ],
      "text/plain": [
       "       Area  Size_class  EstTotalAcres  Protected_Acres  HumanOrLightning  \\\n",
       "14206     2           5           1066              550                 0   \n",
       "632       0           3            801              789                 1   \n",
       "9092      2           1             50               50                 0   \n",
       "3973      2           0             25               25                 0   \n",
       "14283     1           4            925              896                 0   \n",
       "\n",
       "       FO_LandOwnType  County  RegUseRestriction  Industrial_Restriction  \\\n",
       "14206               5      14                  4                       4   \n",
       "632                 8      34                  4                       0   \n",
       "9092               10       9                  1                       1   \n",
       "3973                4      14                  2                       5   \n",
       "14283               4       2                  2                       5   \n",
       "\n",
       "       DistrictCode  Month_ReportDate  \n",
       "14206             5                 8  \n",
       "632              10                 7  \n",
       "9092              7                 5  \n",
       "3973              5                10  \n",
       "14283             4                 9  "
      ]
     },
     "execution_count": 96,
     "metadata": {},
     "output_type": "execute_result"
    }
   ],
   "source": [
    "train.head()"
   ]
  },
  {
   "cell_type": "code",
   "execution_count": 105,
   "metadata": {},
   "outputs": [
    {
     "name": "stdout",
     "output_type": "stream",
     "text": [
      "Your submission was successfully saved!\n"
     ]
    }
   ],
   "source": [
    "y = train[\"HumanOrLightning\"]\n",
    "\n",
    "features = [\"Area\",\"County\",\"DistrictCode\",'FO_LandOwnType','Industrial_Restriction']\n",
    "X = train[features]\n",
    "X_test = test[features]\n",
    "\n",
    "model = RandomForestClassifier(n_estimators=100, max_depth=5, random_state=1)\n",
    "model.fit(X, y)\n",
    "predictions = model.predict(X_test)\n",
    "\n",
    "output = pd.DataFrame({ 'Prediction': predictions, \"Real\": test.HumanOrLightning})\n",
    "output.to_csv('New_Fire_Predictions.csv', index=False)\n",
    "print(\"Your submission was successfully saved!\")"
   ]
  },
  {
   "cell_type": "code",
   "execution_count": 106,
   "metadata": {},
   "outputs": [
    {
     "name": "stdout",
     "output_type": "stream",
     "text": [
      "Accuracy: 0.8266951740989615\n",
      "Precision: 0.6679287305122494\n",
      "Recall: 0.6902186421173763\n",
      "F1 Score: 0.6788907753254103\n",
      "Confusion Matrix:\n",
      "[[10534  1491]\n",
      " [ 1346  2999]]\n"
     ]
    }
   ],
   "source": [
    "y_pred = cross_val_predict(model, X, y, cv=5)\n",
    "\n",
    "accuracy = accuracy_score(y, y_pred)\n",
    "precision = precision_score(y, y_pred)\n",
    "recall = recall_score(y, y_pred)\n",
    "f1 = f1_score(y, y_pred)\n",
    "confusion_mat = confusion_matrix(y, y_pred)\n",
    "\n",
    "# Print metrics\n",
    "print(\"Accuracy:\", accuracy)\n",
    "print(\"Precision:\", precision)\n",
    "print(\"Recall:\", recall)\n",
    "print(\"F1 Score:\", f1)\n",
    "print(\"Confusion Matrix:\")\n",
    "print(confusion_mat)"
   ]
  },
  {
   "cell_type": "code",
   "execution_count": 107,
   "metadata": {},
   "outputs": [
    {
     "name": "stdout",
     "output_type": "stream",
     "text": [
      "Your submission was successfully saved!\n"
     ]
    }
   ],
   "source": [
    "y = train[\"HumanOrLightning\"]\n",
    "\n",
    "features = [\"Area\",\"County\",\"DistrictCode\",'FO_LandOwnType','Industrial_Restriction']\n",
    "X = train[features]\n",
    "X_test = test[features]\n",
    "\n",
    "model = LogisticRegression(penalty='l2',dual=False, tol=0.0001, \n",
    "                                              C=1.0, fit_intercept=True, intercept_scaling=1, \n",
    "                                              class_weight=None, random_state=None, solver='lbfgs', \n",
    "                                              max_iter=100, multi_class='auto', verbose=0, \n",
    "                                              warm_start=False, n_jobs=None, l1_ratio=None)\n",
    "model.fit(X, y)\n",
    "predictions = model.predict(X_test)\n",
    "\n",
    "output = pd.DataFrame({ 'Prediction': predictions, \"Real\": test.HumanOrLightning})\n",
    "output.to_csv('New_Fire_Predictions2.csv', index=False)\n",
    "print(\"Your submission was successfully saved!\")"
   ]
  },
  {
   "cell_type": "code",
   "execution_count": 108,
   "metadata": {},
   "outputs": [
    {
     "name": "stdout",
     "output_type": "stream",
     "text": [
      "Accuracy: 0.7609040928527795\n",
      "Precision: 0.6034565530484878\n",
      "Recall: 0.2892980437284235\n",
      "F1 Score: 0.3911014312383323\n",
      "Confusion Matrix:\n",
      "[[11199   826]\n",
      " [ 3088  1257]]\n"
     ]
    }
   ],
   "source": [
    "y_pred = cross_val_predict(model, X, y, cv=5)\n",
    "\n",
    "accuracy = accuracy_score(y, y_pred)\n",
    "precision = precision_score(y, y_pred)\n",
    "recall = recall_score(y, y_pred)\n",
    "f1 = f1_score(y, y_pred)\n",
    "confusion_mat = confusion_matrix(y, y_pred)\n",
    "\n",
    "# Print metrics\n",
    "print(\"Accuracy:\", accuracy)\n",
    "print(\"Precision:\", precision)\n",
    "print(\"Recall:\", recall)\n",
    "print(\"F1 Score:\", f1)\n",
    "print(\"Confusion Matrix:\")\n",
    "print(confusion_mat)"
   ]
  }
 ],
 "metadata": {
  "kernelspec": {
   "display_name": "MLCourse",
   "language": "python",
   "name": "python3"
  },
  "language_info": {
   "codemirror_mode": {
    "name": "ipython",
    "version": 3
   },
   "file_extension": ".py",
   "mimetype": "text/x-python",
   "name": "python",
   "nbconvert_exporter": "python",
   "pygments_lexer": "ipython3",
   "version": "3.9.7"
  },
  "orig_nbformat": 4
 },
 "nbformat": 4,
 "nbformat_minor": 2
}
